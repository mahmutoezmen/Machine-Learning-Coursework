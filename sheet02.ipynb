{
 "cells": [
  {
   "cell_type": "markdown",
   "metadata": {},
   "source": [
    "# Maximum Likelihood Parameter Estimation\n",
    "\n",
    "In this first exercise, we would like to use the maximum-likelihood method to estimate the best parameter of a data density model $p(x|\\theta)$ with respect to some dataset $\\mathcal{D} = (x_1,\\dots,x_N)$, and use that approach to build a classifier. Assuming the data is generated independently and identically distributed (iid.), the dataset likelihood is given by\n",
    "$$\n",
    "p(\\mathcal{D}|\\theta) = \\prod_{k=1}^N p(x_k|\\theta)\n",
    "$$\n",
    "and the maximum likelihood solution is then computed as\n",
    "\\begin{align*}\n",
    "\\hat{\\theta}\n",
    "&= \\text{arg}\\max_\\theta ~ p(\\mathcal{D}|\\theta)\\\\\n",
    "&= \\text{arg}\\max_\\theta ~ \\log p(\\mathcal{D}|\\theta)\n",
    "\\end{align*}\n",
    "where the log term can also be expressed as a sum, i.e.\n",
    "$$\n",
    "\\log p(\\mathcal{D}|\\theta) = \\sum_{k=1}^N \\log p(x_k|\\theta).\n",
    "$$\n",
    "As a first step, we load some useful libraries for numerical computations and plotting."
   ]
  },
  {
   "cell_type": "code",
   "execution_count": 7,
   "metadata": {},
   "outputs": [
    {
     "name": "stdout",
     "output_type": "stream",
     "text": [
      "2.1269280110429727\n",
      "2\n"
     ]
    }
   ],
   "source": [
    "import numpy as np\n",
    "print(np.log(1+np.exp(2)))\n",
    "print((2))"
   ]
  },
  {
   "cell_type": "code",
   "execution_count": 35,
   "metadata": {},
   "outputs": [],
   "source": [
    "import numpy \n",
    "import matplotlib\n",
    "%matplotlib inline\n",
    "from matplotlib import pyplot as plt\n",
    "na = numpy.newaxis"
   ]
  },
  {
   "cell_type": "markdown",
   "metadata": {},
   "source": [
    "We now consider the univariate data density model \n",
    "\n",
    "$$\n",
    "p(x|\\theta) = \\frac1\\pi \\frac{1}{1+(x-\\theta)^2}\n",
    "$$\n",
    "\n",
    "also known as the Cauchy distribution with fixed parameter $\\gamma=1$, and with parameter $\\theta$ unknown. Compared to the Gaussian distribution, the Cauchy distribution is heavy-tailed, and this can be useful to handle the presence of outliers in the data generation process. The probability density function is implemented below."
   ]
  },
  {
   "cell_type": "code",
   "execution_count": 36,
   "metadata": {},
   "outputs": [],
   "source": [
    "def pdf(X,THETA):\n",
    "    return (1.0 / numpy.pi) * (1.0 / (1+(X-THETA)**2))"
   ]
  },
  {
   "cell_type": "markdown",
   "metadata": {},
   "source": [
    "Note that the function can be called with scalars or with numpy arrays, and if feeding arrays of different shape, numpy broadcasting rules will apply. Our first step will be to implement a function that estimates the optimal parameter $\\hat{\\theta}$ in the maximum likelihood sense for some dataset $\\mathcal{D}$.\n",
    "\n",
    "**Task (10 P):**\n",
    "\n",
    "* **Implement a function that takes a dataset $\\mathcal{D}$ as input (given as one-dimensional array of numbers) and a list of candidate parameters $\\theta$ (also given as a one-dimensional array), and returns a one-dimensional array containing the log-likelihood w.r.t. the dataset $\\mathcal{D}$ for each parameter $\\theta$.**"
   ]
  },
  {
   "cell_type": "code",
   "execution_count": 37,
   "metadata": {},
   "outputs": [],
   "source": [
    "def ll(D,THETA):\n",
    "    return numpy.log(pdf(D[:,None],THETA[None])).sum(axis=0)"
   ]
  },
  {
   "cell_type": "markdown",
   "metadata": {},
   "source": [
    "To test the method, we apply it to some dataset, and plot the log-likelihood for some plausible range of parameters $\\theta$."
   ]
  },
  {
   "cell_type": "code",
   "execution_count": 38,
   "metadata": {},
   "outputs": [
    {
     "data": {
      "image/png": "[encoded data removed]",
      "text/plain": [
       "<Figure size 432x288 with 1 Axes>"
      ]
     },
     "metadata": {
      "needs_background": "light"
     },
     "output_type": "display_data"
    }
   ],
   "source": [
    "D = numpy.array([ 2.803, -1.563, -0.853,  2.212, -0.334,  2.503])\n",
    "\n",
    "THETA = numpy.linspace(-10,10,1001)\n",
    "\n",
    "plt.grid(True)\n",
    "plt.plot(THETA,ll(D,THETA))\n",
    "plt.xlabel(r'$\\theta$')\n",
    "plt.ylabel(r'$\\log p(\\mathcal{D}|\\theta)$')\n",
    "plt.show()"
   ]
  },
  {
   "cell_type": "markdown",
   "metadata": {},
   "source": [
    "We observe that the likelihood has two peaks: one around $\\theta=-0.5$ and one around $\\theta=2$. However, the highest peak is the second one, hence, the second peak is retained as a maximum likelihood solution."
   ]
  },
  {
   "cell_type": "markdown",
   "metadata": {},
   "source": [
    "### Building a Classifier\n",
    "\n",
    "We now would like to use the maximum likelihood technique to build a classifier. We consider a labeled dataset where the data associated to the two classes are given by:"
   ]
  },
  {
   "cell_type": "code",
   "execution_count": 39,
   "metadata": {},
   "outputs": [],
   "source": [
    "D1 = numpy.array([ 2.803, -1.563, -0.853,  2.212, -0.334,  2.503])\n",
    "D2 = numpy.array([-4.510, -3.316, -3.050, -3.108, -2.315])"
   ]
  },
  {
   "cell_type": "markdown",
   "metadata": {},
   "source": [
    "To be able to classify new data points, we consider the discriminant function\n",
    "\n",
    "$$\n",
    "g(x) = \\log P(x|\\hat{\\theta}_1) -  \\log P(x|\\hat{\\theta}_2) + \\log P(\\omega_1) - \\log P(\\omega_2)\n",
    "$$\n",
    "\n",
    "were the first two terms can be computed based on our maximum likelihood estimates, and where the last two terms are the prior probabilities. The function $g(x)$ produces the decision $\\omega_1$ if $g(x) > 0$ and $\\omega_2$ if $g(x) < 0$. We would like to implement a maximum-likelihood based classifier.\n",
    "\n",
    "**Tasks (10 P):**\n",
    "\n",
    "* **Implement the function `fit` that receives as input a vector of candidate parameters $\\theta$ and the dataset associated to each class, and produces the maximum likelihood parameter estimates.** *(Hint: from your function `fit`, you can call the function `ll` you have previously implemented.)*\n",
    "\n",
    "\n",
    "* **Implement the function `predict` that takes as input the prior probability for each class and a vector of points X on which to evaluate the discriminant function, and that outputs a vector containing the value of $g$ for each point in X.**"
   ]
  },
  {
   "cell_type": "code",
   "execution_count": 40,
   "metadata": {},
   "outputs": [],
   "source": [
    "class MLClassifier:\n",
    "    \n",
    "    def fit(self,THETA,D1,D2):\n",
    "        \n",
    "        self.theta1 = THETA[numpy.argmax(ll(D1,THETA))]\n",
    "        \n",
    "        self.theta2 = THETA[numpy.argmax(ll(D2,THETA))]\n",
    "    def predict(self,X,p1,p2):\n",
    "        g = numpy.log(pdf(X,self.theta1)) - numpy.log(pdf(X,self.theta2)) + numpy.log(p1) - numpy.log(p2)\n",
    "        return g"
   ]
  },
  {
   "cell_type": "markdown",
   "metadata": {},
   "source": [
    "Once these two functions have been implemented, the maximum likelihood classifier can be applied to our labeled data, and the decision function it implements can be visualized."
   ]
  },
  {
   "cell_type": "code",
   "execution_count": 41,
   "metadata": {},
   "outputs": [
    {
     "data": {
      "image/png": "[encoded data removed]",
      "text/plain": [
       "<Figure size 432x288 with 1 Axes>"
      ]
     },
     "metadata": {
      "needs_background": "light"
     },
     "output_type": "display_data"
    }
   ],
   "source": [
    "X = numpy.linspace(-10,10,1001)\n",
    "\n",
    "plt.grid(True)\n",
    "\n",
    "mlcl = MLClassifier()\n",
    "mlcl.fit(THETA,D1,D2)\n",
    "\n",
    "plt.plot(X,mlcl.predict(X,0.5,0.5))\n",
    "plt.plot(X,0*X,color='black',ls='dotted')\n",
    "\n",
    "plt.xlabel(r'$x$')\n",
    "plt.ylabel(r'$g(x)$')\n",
    "\n",
    "for d1 in D1: plt.plot([d1,d1],[0,+0.5],color='black')\n",
    "for d2 in D2: plt.plot([d2,d2],[0,-0.5],color='black')"
   ]
  },
  {
   "cell_type": "markdown",
   "metadata": {},
   "source": [
    "Here, we observe that the model essentially learns a threshold classifier with threshold approximately $-0.5$. However, we note that the threshold seems to be too high to properly classify the data. One reason for this is the fact that maximum likelihood estimate retains only the best parameter. Here, the model for the first class focuses mainly on the peak at $x=2$ and treat examples $x < 0$ as outliers, without considering the possibility that the peak at $\\theta=2$ might actually be the outlier."
   ]
  },
  {
   "cell_type": "markdown",
   "metadata": {},
   "source": [
    "# Bayes Parameter Estimation\n",
    "\n",
    "Let us now bypass the computation of a maximum likelihood estimate of parameters and adopt instead a full Bayesian approach. We will consider the same data density model and datasets as in the maximum likelihood exercise but we include now a prior distribution over the parameters. Specifically, we set for both classes the prior distribution:\n",
    "\n",
    "$$\n",
    "p(\\theta) = \\frac{1}{10\\pi} \\frac{1}{1+(\\theta/10)^2}\n",
    "$$\n",
    "\n",
    "Given a dataset $\\mathcal{D}$, the posterior distribution for the unknown parameter $\\theta$ can then be obtained from the Bayes rule:\n",
    "\n",
    "$$\n",
    "p(\\theta | \\mathcal{D}) = \\frac{p(\\mathcal{D} | \\theta)p(\\theta)}{\\int p(\\mathcal{D} | \\theta)p(\\theta) d\\theta}\n",
    "$$\n",
    "\n",
    "The integration can be performed numerically using the trapezoidal rule."
   ]
  },
  {
   "cell_type": "markdown",
   "metadata": {},
   "source": [
    "** Task (10 P):**\n",
    "\n",
    "* **Implement the prior and posterior functions below. These function receive as input a vector of parameters $\\theta$ (assumed to be sorted from smallest to largest, linearly spaced, and covering the range of values where most of the probability mass lies). The posterior function also receive a dataset $\\mathcal{D}$ as input. Both functions return a vector containing the probability scores associated to each value of $\\theta$.**"
   ]
  },
  {
   "cell_type": "code",
   "execution_count": 50,
   "metadata": {},
   "outputs": [],
   "source": [
    "def prior(THETA):\n",
    "\n",
    "    return pdf(0,THETA/10)/10\n",
    "def posterior(D,THETA):\n",
    "    \n",
    "    density = pdf(D[:,None],THETA[None]).prod(axis=0)\n",
    "    joint = density * prior(THETA)\n",
    "    integral = (((joint[:-1]+joint[1:])/2)*(THETA[1:]-THETA[:-1])).sum()\n",
    "    return joint / integral"
   ]
  },
  {
   "cell_type": "markdown",
   "metadata": {},
   "source": [
    "To verify the implementation of the two functions, we apply them to the dataset $\\mathcal{D}$ defined above and with a broad range of parameters $\\theta$."
   ]
  },
  {
   "cell_type": "code",
   "execution_count": 51,
   "metadata": {},
   "outputs": [
    {
     "data": {
      "image/png": "[encoded data removed]",
      "text/plain": [
       "<Figure size 432x288 with 1 Axes>"
      ]
     },
     "metadata": {
      "needs_background": "light"
     },
     "output_type": "display_data"
    }
   ],
   "source": [
    "THETA = numpy.linspace(-100,100,10001)\n",
    "\n",
    "plt.grid(True)\n",
    "plt.plot(THETA,numpy.log(prior(THETA)),label=r'$p(\\theta)$')\n",
    "plt.plot(THETA,numpy.log(posterior(D,THETA)),label=r'$p(\\theta|\\mathcal{D})$')\n",
    "plt.legend(); plt.xlabel(r'$\\theta$'); plt.show()"
   ]
  },
  {
   "cell_type": "markdown",
   "metadata": {},
   "source": [
    "We observe that the posterior distribution is more concentrated to the specific values of the parameter that explain the dataset well. In particular, we observe the same two peaks around $\\theta=-0.5$ and $\\theta=2$ observed in the maximum likelihood exercise."
   ]
  },
  {
   "cell_type": "markdown",
   "metadata": {},
   "source": [
    "### Building a Classifier\n",
    "\n",
    "We now would like to build a Bayes classifier based on the discriminant function\n",
    "\n",
    "$$\n",
    "h(x) = \\log P(x|\\mathcal{D}_1) -  \\log P(x|\\mathcal{D}_2) + \\log P(\\omega_1) - \\log P(\\omega_2)\n",
    "$$\n",
    "\n",
    "where the dataset-conditioned densities are obtained from the original data density model and the parameter posterior as\n",
    "\n",
    "$$\n",
    "p(x|\\mathcal{D}_j) = \\int p(x|\\theta) p(\\theta|\\mathcal{D}_j) d\\theta\n",
    "$$\n",
    "\n",
    "**Tasks (10 P):**\n",
    "\n",
    "* **Implement a function `fit` that produces the parameter posteriors $p(\\theta|\\mathcal{D}_1)$ and $p(\\theta|\\mathcal{D}_2)$.**\n",
    "* **Implement a function `predict` computing the new discriminant function $h$ based on the dataset-conditioned data densities.**"
   ]
  },
  {
   "cell_type": "code",
   "execution_count": 56,
   "metadata": {},
   "outputs": [],
   "source": [
    "class BayesClassifier:\n",
    "    \n",
    "    def fit(self,THETA,D1,D2):\n",
    "          \n",
    "        self.THETA = THETA\n",
    "        self.post1 = posterior(D1,THETA)\n",
    "        self.post2 = posterior(D2,THETA)\n",
    "        \n",
    "    def predict(self,X,p1,p2):\n",
    "        \n",
    "        density = pdf(X[:,None],self.THETA[None])\n",
    "        joint1 = density * self.post1[None]\n",
    "        joint2 = density * self.post2[None]\n",
    "        \n",
    "        pdf1 = (((joint1[:,:-1]+joint1[:,1:])/2)*(self.THETA[1:]-self.THETA[:-1])).sum()\n",
    "        pdf2 = (((joint2[:,:-1]+joint2[:,1:])/2)*(self.THETA[1:]-self.THETA[:-1])).sum()\n",
    "        return numpy.log(pdf1) - numpy.log(pdf2) + numpy.log(p1) - numpy.log(p2)"
   ]
  },
  {
   "cell_type": "markdown",
   "metadata": {},
   "source": [
    "We note that the function `predict` is computationally more expensive than the one for maximum likelihood since it involves computing an integral for each point to be predicted.\n",
    "\n",
    "However, the quality of the prediction also differs compared to that of the maximum likelihood method. In the plot below, we compare the ML and Bayes approaches."
   ]
  },
  {
   "cell_type": "code",
   "execution_count": null,
   "metadata": {},
   "outputs": [],
   "source": [
    "X = numpy.linspace(-10,10,1001)\n",
    "\n",
    "bacl = BayesClassifier()\n",
    "bacl.fit(THETA,D1,D2)\n",
    "\n",
    "plt.grid(True)\n",
    "plt.plot(X,mlcl.predict(X,0.5,0.5),label='ML')\n",
    "plt.plot(X,bacl.predict(X,0.5,0.5),label='Bayes')\n",
    "\n",
    "plt.plot(X,0*X,color='black',ls='dotted')\n",
    "plt.xlabel(r'$x$'); plt.ylabel(r'$g(x)$')\n",
    "plt.legend()\n",
    "\n",
    "for d1 in D1: plt.plot([d1,d1],[0,+0.5],color='black')\n",
    "for d2 in D2: plt.plot([d2,d2],[0,-0.5],color='black')"
   ]
  },
  {
   "cell_type": "markdown",
   "metadata": {},
   "source": [
    "We observe that the Bayes classifier has generally lower output scores and its decision boundary has been noticeably shifted to the left, leading to better predictions for the current data. In this particular case, the difference between the two models can be explained by the fact that the Bayes one better integrates the possibility that negative examples for the first class are not necessarily outliers."
   ]
  }
 ],
 "metadata": {
  "kernelspec": {
   "display_name": "Python 3",
   "language": "python",
   "name": "python3"
  },
  "language_info": {
   "codemirror_mode": {
    "name": "ipython",
    "version": 3
   },
   "file_extension": ".py",
   "mimetype": "text/x-python",
   "name": "python",
   "nbconvert_exporter": "python",
   "pygments_lexer": "ipython3",
   "version": "3.8.5"
  }
 },
 "nbformat": 4,
 "nbformat_minor": 1
}
