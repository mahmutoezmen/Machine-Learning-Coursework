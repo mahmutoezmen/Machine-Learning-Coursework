{
 "cells": [
  {
   "cell_type": "markdown",
   "metadata": {},
   "source": [
    "# Fisher Linear Discriminant\n",
    "\n",
    "In this exercise, we apply Fisher Linear Discriminant as described in Chapter 3.8.2 of Duda et al. on the UCI Abalone dataset. A description of the dataset is given at the page https://archive.ics.uci.edu/ml/datasets/Abalone. The following two methods are provided for your convenience: \n",
    "\n",
    "\n",
    "* **`utils.Abalone.__init__(self)`** reads the Abalone data and instantiates two data matrices corresponding to: *infant (I)*, *non-infant (N)*.\n",
    "\n",
    "\n",
    "* **`utils.Abalone.plot(self,w)`** produces a histogram of the data when projected onto a vector `w`, and where each class is shown in a different color.\n",
    "\n",
    "\n",
    "Sample code that makes use of these two methods is given below. It loads the data, looks at the shape of instantiated matrices, and plots the projection on the first dimension of the data representing the length of the abalone."
   ]
  },
  {
   "cell_type": "code",
   "execution_count": 2,
   "metadata": {},
   "outputs": [
    {
     "name": "stdout",
     "output_type": "stream",
     "text": [
      "(1342, 7) (2835, 7)\n"
     ]
    },
    {
     "data": {
      "image/png": "[encoded data removed]",
      "text/plain": [
       "<Figure size 432x144 with 1 Axes>"
      ]
     },
     "metadata": {
      "needs_background": "light"
     },
     "output_type": "display_data"
    }
   ],
   "source": [
    "%matplotlib inline\n",
    "import utils,numpy\n",
    "\n",
    "# Load the data\n",
    "abalone = utils.Abalone()\n",
    "\n",
    "# Print dataset size for each class\n",
    "print(abalone.I.shape, abalone.N.shape)\n",
    "\n",
    "# Project data on the first dimension\n",
    "w1 = numpy.array([1,0,0,0,0,0,0])\n",
    "abalone.plot(w1,'projection on the first dimension (length)')"
   ]
  },
  {
   "cell_type": "markdown",
   "metadata": {},
   "source": [
    "## Implementation (10 + 5 + 5 = 20 P)\n",
    "\n",
    "* **Create a function `w = fisher(X1,X2)` that takes as input the data for two classes and returns the Fisher linear discriminant.**\n",
    "\n",
    "\n",
    "* **Create a function `objective(X1,X2,w)` that evaluates the objective defined in Equation 96 of Duda et al. for an arbitrary projection vector `w`.**\n",
    "\n",
    "\n",
    "* **Create a function `z = phi(X)` that returns a quadratic expansion for each data point `x` in the dataset. Such expansion consists of the vector `x` itself, to which we concatenate the vector of all pairwise products between elements of `x`.** In other words, letting $x = (x_1,\\dots,x_d)$ denote the $d$-dimensional data point, the quadratic expansion for this data point is a $d \\cdot (d+3)/2$ dimensional vector given by $\\phi(x) = (x_i)_{1 \\leq i \\leq d} \\cup (x_i x_j)_{1 \\leq i \\leq j \\leq d}$. For example, the quadratic expansion for $d=2$ is $(x_1,x_2,x_1^2,x_2^2,x_1 x_2)$."
   ]
  },
  {
   "cell_type": "code",
   "execution_count": 16,
   "metadata": {},
   "outputs": [],
   "source": [
    "def fisher(X1,X2):\n",
    "    ##### Replace by your code\n",
    "    mean1 = numpy.mean(X1,axis=0)\n",
    "    mean2 = numpy.mean(X2,axis=0)\n",
    "    mean_difference = mean1 - mean2\n",
    "    \n",
    "    cov1 = numpy.cov(X1,rowvar=False)\n",
    "    cov2 = numpy.cov(X2,rowvar=False)\n",
    "    \n",
    "    S_b = numpy.dot((mean_difference).T,(mean_difference))\n",
    "    S_w = cov1 + cov2\n",
    "    \n",
    "    #Sadece inv calismaz mi? Pseudonverse almisiz uhm\n",
    "    w = numpy.linalg.inv(S_w) @ (mean_difference)\n",
    "    return w\n",
    "    #####\n",
    "    \n",
    "def objective(X1,X2,w):\n",
    "    ##### Replace by your code\n",
    "    mean1 = numpy.mean(X1,axis=0)\n",
    "    mean2 = numpy.mean(X2,axis=0)\n",
    "    mean_difference = mean1 - mean2\n",
    "    \n",
    "    cov1 = numpy.cov(X1,rowvar=False)\n",
    "    cov2 = numpy.cov(X2,rowvar=False)\n",
    "    \n",
    "    S_w = cov1 + cov2\n",
    "    \n",
    "    max_mean_class_diff=numpy.dot(w.T,numpy.dot(mean_difference,w))\n",
    "    \n",
    "    min_inclass_variance = numpy.dot(w.T, numpy.dot(S_w, w))\n",
    "    \n",
    "    return max_mean_class_diff / min_inclass_variance\n",
    "    #####\n",
    "def ComputeFisherLinearDiscriminant(X1,X2):\n",
    "    m1 = numpy.mean(X1,axis=0)\n",
    "    m2 = numpy.mean(X2,axis=0)\n",
    "    SW = numpy.cov(X1,rowvar=False) + numpy.cov(X2,rowvar=False)\n",
    "    inv = numpy.linalg.inv(SW)\n",
    "    return numpy.dot(inv,m1-m2)\n",
    "    \n",
    "def expand(X):\n",
    "    ##### Replace by your code\n",
    "    d = X.shape[1]\n",
    "    size_after_expansion = d*(d+3)/2\n",
    "    \n",
    "    result = numpy.zeros(int(size_after_expansion))\n",
    "    \n",
    "    for x in X:\n",
    "        datapoint_exp = x\n",
    "        for i in range(0,x.size):\n",
    "            datapoint_exp = numpy.concatenate((datapoint_exp, x[i]*x[i:x.size]))\n",
    "        result = numpy.vstack((result, datapoint_exp))\n",
    "    return result[1:]"
   ]
  },
  {
   "cell_type": "markdown",
   "metadata": {},
   "source": [
    " #####################\n",
    "    X1_centered = X1 - u1\n",
    "    X2_centered = X2 - u2\n",
    "    sigma1= (X1_centered.T.dot( X1_centered))\n",
    "    sigma2=  (X2_centered.T.dot( X2_centered))\n",
    "    S = sigma1 + sigma2\n",
    "    w =  numpy.linalg.inv(S).dot((u1 - u2))\n",
    "    return (w/numpy.linalg.norm(w) )\n",
    "\n",
    "\n",
    "\n",
    "def objective(X1,X2,w):\n",
    "    u1 = X1.mean(axis=0)  \n",
    "    u2 = X2.mean(axis=0) \n",
    "    delta_u = (u1 - u2).reshape((X1.shape[1],1))\n",
    "    Sb = delta_u.dot(delta_u.T)\n",
    "    #####################\n",
    "    X1_centered = X1 - u1\n",
    "    X2_centered = X2 - u2\n",
    "    sigma1= (X1_centered.T.dot( X1_centered))\n",
    "    sigma2=  (X2_centered.T.dot( X2_centered))\n",
    "    Sw= sigma1 + sigma2\n",
    "    #####################\n",
    "    return w.dot(Sb.dot(w.T))/w.dot(Sw.dot(w.T))\n",
    "\n",
    "\n",
    "#####\n",
    "def expand(X):\n",
    "    d = X.shape[1]\n",
    "    size_after_expansion = d*(d+3)/2\n",
    "    result = numpy.zeros(int(size_after_expansion))\n",
    "    for x in X:\n",
    "        datapoint_exp = x\n",
    "        for i in range(0,x.size):\n",
    "            datapoint_exp = numpy.concatenate((datapoint_exp, x[i]*x[i:x.size]))\n",
    "        result = numpy.vstack((result, datapoint_exp))\n",
    "    return result[1:]\n",
    "                      \n",
    "#####"
   ]
  },
  {
   "cell_type": "markdown",
   "metadata": {},
   "source": [
    "## Analysis (5 + 5 = 10 P)\n",
    "\n",
    "* **Print value of the objective function and the histogram for several values of `w`:**\n",
    "\n",
    "  * `w` is a canonical coordinate vector for the first feature (length).\n",
    "  * `w` is the difference between the mean vectors of the two classes.\n",
    "  * `w` is the Fisher linear discriminant.\n",
    "  * `w` is the Fisher linear discriminant (after quadratic expansion of the data)."
   ]
  },
  {
   "cell_type": "code",
   "execution_count": 17,
   "metadata": {},
   "outputs": [
    {
     "name": "stdout",
     "output_type": "stream",
     "text": [
      "First dimension:\n",
      "[-6.74252226  0.          0.          0.          0.          0.\n",
      "  0.        ]\n"
     ]
    },
    {
     "data": {
      "image/png": "[encoded data removed]",
      "text/plain": [
       "<Figure size 432x144 with 1 Axes>"
      ]
     },
     "metadata": {
      "needs_background": "light"
     },
     "output_type": "display_data"
    },
    {
     "name": "stdout",
     "output_type": "stream",
     "text": [
      "mean\n",
      "[ 6.77876727 -8.45939051 -4.0431426  -1.59998935  1.81950639 -4.56012887\n",
      "  0.14994965]\n"
     ]
    },
    {
     "data": {
      "image/png": "[encoded data removed]",
      "text/plain": [
       "<Figure size 432x144 with 1 Axes>"
      ]
     },
     "metadata": {
      "needs_background": "light"
     },
     "output_type": "display_data"
    },
    {
     "name": "stdout",
     "output_type": "stream",
     "text": [
      "Fisher Linear Discriminant:\n",
      "[ 6.77876727 -8.45939051 -4.0431426  -1.59998935  1.81950639 -4.56012887\n",
      "  0.14994965]\n"
     ]
    },
    {
     "data": {
      "image/png": "[encoded data removed]",
      "text/plain": [
       "<Figure size 432x144 with 1 Axes>"
      ]
     },
     "metadata": {
      "needs_background": "light"
     },
     "output_type": "display_data"
    },
    {
     "name": "stdout",
     "output_type": "stream",
     "text": [
      "Fisher Linear Discriminant Expaned:\n",
      "[  -4.01468835   -4.6826284   -14.35996719   11.49926088   11.49873145\n",
      "  -36.08667533  -34.58295073   69.26468005 -104.92529194   22.27570596\n",
      "  -42.67272128  -16.18602392   15.52762828   94.1835897    71.49580647\n",
      "  -10.97170335  -33.49180523   36.09484867   69.84706399   -1.0074923\n",
      "    3.98247235   80.59177985  -83.9451347   -80.76378563  -76.0344297\n",
      "    3.75518732    9.76274662   20.94801957  -15.38429121  -10.95079824\n",
      "  -22.88782657    6.71938041  -19.27552474   -2.56847762    9.18523462]\n"
     ]
    },
    {
     "data": {
      "image/png": "[encoded data removed]",
      "text/plain": [
       "<Figure size 432x144 with 1 Axes>"
      ]
     },
     "metadata": {
      "needs_background": "light"
     },
     "output_type": "display_data"
    }
   ],
   "source": [
    "##### REPLACE BY YOUR CODE\n",
    "%matplotlib inline\n",
    "print('First dimension:')\n",
    "print(objective(abalone.I,abalone.N,w1))\n",
    "abalone.plot(w1,'projection on the first dimension (length)')\n",
    "w2 = fisher(abalone.I,abalone.N)\n",
    "print('mean')\n",
    "print(objective(abalone.I,abalone.N,w2))\n",
    "abalone.plot(w2,'Mean')\n",
    "w3 = ComputeFisherLinearDiscriminant(abalone.I,abalone.N)\n",
    "print('Fisher Linear Discriminant:')\n",
    "print(objective(abalone.I,abalone.N,w3))\n",
    "abalone.plot(w3/numpy.linalg.norm(w3),'Fisher linear discriminant')\n",
    "w4 = ComputeFisherLinearDiscriminant(expand(abalone.I),expand(abalone.N))\n",
    "print('Fisher Linear Discriminant Expaned:')\n",
    "print(objective(expand(abalone.I),expand(abalone.N),w4))\n",
    "abalone.I = expand(abalone.I)\n",
    "abalone.N = expand(abalone.N)\n",
    "abalone.plot(w4/numpy.linalg.norm(w4),'Fisher linear discriminant Expanded')\n",
    "#####"
   ]
  },
  {
   "cell_type": "code",
   "execution_count": null,
   "metadata": {},
   "outputs": [],
   "source": []
  }
 ],
 "metadata": {
  "kernelspec": {
   "display_name": "Python 3",
   "language": "python",
   "name": "python3"
  },
  "language_info": {
   "codemirror_mode": {
    "name": "ipython",
    "version": 3
   },
   "file_extension": ".py",
   "mimetype": "text/x-python",
   "name": "python",
   "nbconvert_exporter": "python",
   "pygments_lexer": "ipython3",
   "version": "3.8.5"
  }
 },
 "nbformat": 4,
 "nbformat_minor": 1
}
